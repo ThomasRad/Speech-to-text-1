{
 "cells": [
  {
   "cell_type": "markdown",
   "metadata": {},
   "source": [
    "# Speech to text"
   ]
  },
  {
   "cell_type": "code",
   "execution_count": 1,
   "metadata": {},
   "outputs": [],
   "source": [
    "# Import packages. \n",
    "\n",
    "import speech_recognition as sr"
   ]
  },
  {
   "cell_type": "code",
   "execution_count": 2,
   "metadata": {},
   "outputs": [],
   "source": [
    "# Get audio from user and convert it into text. \n",
    "\n",
    "def get_audio():\n",
    "    \n",
    "    #Initalize \n",
    "    \n",
    "    r = sr.Recognizer()\n",
    "    \n",
    "    # We want to get input from the microphone. \n",
    "    \n",
    "    with sr.Microphone() as source: \n",
    "        audio = r.listen(source)\n",
    "        \n",
    "        voice_input = ''\n",
    "        \n",
    "        try:\n",
    "            \n",
    "            # Using google speech to text. \n",
    "            \n",
    "            voice_input = r.recognize_google(audio)\n",
    "            print(voice_input)\n",
    "            \n",
    "        except Exception as e:\n",
    "            \n",
    "            print('Exception:' + str(e))\n",
    "            \n",
    "    return voice_input"
   ]
  },
  {
   "cell_type": "code",
   "execution_count": 3,
   "metadata": {},
   "outputs": [
    {
     "name": "stdout",
     "output_type": "stream",
     "text": [
      "flow\n"
     ]
    },
    {
     "data": {
      "text/plain": [
       "'flow'"
      ]
     },
     "execution_count": 3,
     "metadata": {},
     "output_type": "execute_result"
    }
   ],
   "source": [
    "# Testing \n",
    "\n",
    "get_audio()"
   ]
  }
 ],
 "metadata": {
  "kernelspec": {
   "display_name": "Python 3",
   "language": "python",
   "name": "python3"
  },
  "language_info": {
   "codemirror_mode": {
    "name": "ipython",
    "version": 3
   },
   "file_extension": ".py",
   "mimetype": "text/x-python",
   "name": "python",
   "nbconvert_exporter": "python",
   "pygments_lexer": "ipython3",
   "version": "3.7.6"
  }
 },
 "nbformat": 4,
 "nbformat_minor": 4
}
